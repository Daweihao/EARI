{
 "cells": [
  {
   "cell_type": "code",
   "execution_count": 1,
   "metadata": {},
   "outputs": [],
   "source": [
    "import pandas as pd\n",
    "from pandas.core.frame import DataFrame"
   ]
  },
  {
   "cell_type": "code",
   "execution_count": 10,
   "metadata": {},
   "outputs": [],
   "source": [
    "file1 = \"B03002_ethnicity_censusTract.xlsx\"\n",
    "file2 = \"B03002_ethnicity_state.xlsx\"\n",
    "\n",
    "xl = pd.ExcelFile(file1)\n",
    "x2 = pd.ExcelFile(file2)\n",
    "ethnicity1 = xl.parse('MA')\n",
    "ethnicity_state1 = x2.parse('MA')\n"
   ]
  },
  {
   "cell_type": "code",
   "execution_count": 4,
   "metadata": {},
   "outputs": [
    {
     "data": {
      "text/html": [
       "<div>\n",
       "<style scoped>\n",
       "    .dataframe tbody tr th:only-of-type {\n",
       "        vertical-align: middle;\n",
       "    }\n",
       "\n",
       "    .dataframe tbody tr th {\n",
       "        vertical-align: top;\n",
       "    }\n",
       "\n",
       "    .dataframe thead th {\n",
       "        text-align: right;\n",
       "    }\n",
       "</style>\n",
       "<table border=\"1\" class=\"dataframe\">\n",
       "  <thead>\n",
       "    <tr style=\"text-align: right;\">\n",
       "      <th></th>\n",
       "      <th>GEO.id</th>\n",
       "      <th>GEO.id2</th>\n",
       "      <th>GEO.display-label</th>\n",
       "      <th>HD01_VD01</th>\n",
       "      <th>HD01_VD02</th>\n",
       "    </tr>\n",
       "  </thead>\n",
       "  <tbody>\n",
       "    <tr>\n",
       "      <th>0</th>\n",
       "      <td>Id</td>\n",
       "      <td>Id2</td>\n",
       "      <td>Geography</td>\n",
       "      <td>Estimate; Total:</td>\n",
       "      <td>Estimate; Not Hispanic or Latino:</td>\n",
       "    </tr>\n",
       "    <tr>\n",
       "      <th>1</th>\n",
       "      <td>1400000US25001010100</td>\n",
       "      <td>25001010100</td>\n",
       "      <td>Census Tract 101, Barnstable County, Massachus...</td>\n",
       "      <td>2962</td>\n",
       "      <td>2798</td>\n",
       "    </tr>\n",
       "    <tr>\n",
       "      <th>2</th>\n",
       "      <td>1400000US25001010206</td>\n",
       "      <td>25001010206</td>\n",
       "      <td>Census Tract 102.06, Barnstable County, Massac...</td>\n",
       "      <td>3168</td>\n",
       "      <td>3158</td>\n",
       "    </tr>\n",
       "    <tr>\n",
       "      <th>3</th>\n",
       "      <td>1400000US25001010208</td>\n",
       "      <td>25001010208</td>\n",
       "      <td>Census Tract 102.08, Barnstable County, Massac...</td>\n",
       "      <td>1589</td>\n",
       "      <td>1559</td>\n",
       "    </tr>\n",
       "    <tr>\n",
       "      <th>4</th>\n",
       "      <td>1400000US25001010304</td>\n",
       "      <td>25001010304</td>\n",
       "      <td>Census Tract 103.04, Barnstable County, Massac...</td>\n",
       "      <td>2107</td>\n",
       "      <td>2084</td>\n",
       "    </tr>\n",
       "  </tbody>\n",
       "</table>\n",
       "</div>"
      ],
      "text/plain": [
       "                 GEO.id      GEO.id2  \\\n",
       "0                    Id          Id2   \n",
       "1  1400000US25001010100  25001010100   \n",
       "2  1400000US25001010206  25001010206   \n",
       "3  1400000US25001010208  25001010208   \n",
       "4  1400000US25001010304  25001010304   \n",
       "\n",
       "                                   GEO.display-label         HD01_VD01  \\\n",
       "0                                          Geography  Estimate; Total:   \n",
       "1  Census Tract 101, Barnstable County, Massachus...              2962   \n",
       "2  Census Tract 102.06, Barnstable County, Massac...              3168   \n",
       "3  Census Tract 102.08, Barnstable County, Massac...              1589   \n",
       "4  Census Tract 103.04, Barnstable County, Massac...              2107   \n",
       "\n",
       "                           HD01_VD02  \n",
       "0  Estimate; Not Hispanic or Latino:  \n",
       "1                               2798  \n",
       "2                               3158  \n",
       "3                               1559  \n",
       "4                               2084  "
      ]
     },
     "execution_count": 4,
     "metadata": {},
     "output_type": "execute_result"
    }
   ],
   "source": [
    "ethnicity2 = ethnicity1.loc[:,['GEO.id','GEO.id2','GEO.display-label','HD01_VD01','HD01_VD02']]\n",
    "\n",
    "ethnicity2.head()"
   ]
  },
  {
   "cell_type": "code",
   "execution_count": 7,
   "metadata": {},
   "outputs": [],
   "source": [
    "not_hispanic = [0 for n in range(ethnicity2.shape[0])]\n",
    "hispanic = [0 for n in range(ethnicity2.shape[0])]\n",
    "i = 0\n",
    "\n",
    "for (ittt, row) in ethnicity2.iterrows():\n",
    "    if(type(row['HD01_VD01'])!=int):\n",
    "        not_hispanic[i] = \"Percentage of Not Hispanic\"\n",
    "        hispanic[i] = \"Percentage of Hispanic\"\n",
    "        i = i + 1\n",
    "    else:\n",
    "        if(row['HD01_VD01']!=0):\n",
    "            not_hispanic[i] = round((row['HD01_VD02'] / row['HD01_VD01'])*100,2)\n",
    "            hispanic[i] = 100 - not_hispanic[i]\n",
    "            i = i + 1\n",
    "        else:\n",
    "            not_hispanic[i] = 0\n",
    "            hispanic[i] = 0\n",
    "            i = i + 1\n",
    "            "
   ]
  },
  {
   "cell_type": "code",
   "execution_count": 8,
   "metadata": {},
   "outputs": [
    {
     "data": {
      "text/html": [
       "<div>\n",
       "<style scoped>\n",
       "    .dataframe tbody tr th:only-of-type {\n",
       "        vertical-align: middle;\n",
       "    }\n",
       "\n",
       "    .dataframe tbody tr th {\n",
       "        vertical-align: top;\n",
       "    }\n",
       "\n",
       "    .dataframe thead th {\n",
       "        text-align: right;\n",
       "    }\n",
       "</style>\n",
       "<table border=\"1\" class=\"dataframe\">\n",
       "  <thead>\n",
       "    <tr style=\"text-align: right;\">\n",
       "      <th></th>\n",
       "      <th>PoH</th>\n",
       "    </tr>\n",
       "  </thead>\n",
       "  <tbody>\n",
       "    <tr>\n",
       "      <th>0</th>\n",
       "      <td>Percentage of Hispanic</td>\n",
       "    </tr>\n",
       "    <tr>\n",
       "      <th>1</th>\n",
       "      <td>5.54</td>\n",
       "    </tr>\n",
       "    <tr>\n",
       "      <th>2</th>\n",
       "      <td>0.32</td>\n",
       "    </tr>\n",
       "    <tr>\n",
       "      <th>3</th>\n",
       "      <td>1.89</td>\n",
       "    </tr>\n",
       "    <tr>\n",
       "      <th>4</th>\n",
       "      <td>1.09</td>\n",
       "    </tr>\n",
       "  </tbody>\n",
       "</table>\n",
       "</div>"
      ],
      "text/plain": [
       "                      PoH\n",
       "0  Percentage of Hispanic\n",
       "1                    5.54\n",
       "2                    0.32\n",
       "3                    1.89\n",
       "4                    1.09"
      ]
     },
     "execution_count": 8,
     "metadata": {},
     "output_type": "execute_result"
    }
   ],
   "source": [
    "PoNH = {\"PoNH\": not_hispanic}\n",
    "data1=DataFrame(PoNH)\n",
    "PoH = {\"PoH\": hispanic}\n",
    "data2=DataFrame(PoH)\n",
    "data2.head()"
   ]
  },
  {
   "cell_type": "code",
   "execution_count": 9,
   "metadata": {},
   "outputs": [
    {
     "data": {
      "text/html": [
       "<div>\n",
       "<style scoped>\n",
       "    .dataframe tbody tr th:only-of-type {\n",
       "        vertical-align: middle;\n",
       "    }\n",
       "\n",
       "    .dataframe tbody tr th {\n",
       "        vertical-align: top;\n",
       "    }\n",
       "\n",
       "    .dataframe thead th {\n",
       "        text-align: right;\n",
       "    }\n",
       "</style>\n",
       "<table border=\"1\" class=\"dataframe\">\n",
       "  <thead>\n",
       "    <tr style=\"text-align: right;\">\n",
       "      <th></th>\n",
       "      <th>GEO.id</th>\n",
       "      <th>GEO.id2</th>\n",
       "      <th>GEO.display-label</th>\n",
       "      <th>PoNH</th>\n",
       "      <th>PoH</th>\n",
       "    </tr>\n",
       "  </thead>\n",
       "  <tbody>\n",
       "    <tr>\n",
       "      <th>0</th>\n",
       "      <td>Id</td>\n",
       "      <td>Id2</td>\n",
       "      <td>Geography</td>\n",
       "      <td>Percentage of Not Hispanic</td>\n",
       "      <td>Percentage of Hispanic</td>\n",
       "    </tr>\n",
       "    <tr>\n",
       "      <th>1</th>\n",
       "      <td>1400000US25001010100</td>\n",
       "      <td>25001010100</td>\n",
       "      <td>Census Tract 101, Barnstable County, Massachus...</td>\n",
       "      <td>94.46</td>\n",
       "      <td>5.54</td>\n",
       "    </tr>\n",
       "    <tr>\n",
       "      <th>2</th>\n",
       "      <td>1400000US25001010206</td>\n",
       "      <td>25001010206</td>\n",
       "      <td>Census Tract 102.06, Barnstable County, Massac...</td>\n",
       "      <td>99.68</td>\n",
       "      <td>0.32</td>\n",
       "    </tr>\n",
       "    <tr>\n",
       "      <th>3</th>\n",
       "      <td>1400000US25001010208</td>\n",
       "      <td>25001010208</td>\n",
       "      <td>Census Tract 102.08, Barnstable County, Massac...</td>\n",
       "      <td>98.11</td>\n",
       "      <td>1.89</td>\n",
       "    </tr>\n",
       "    <tr>\n",
       "      <th>4</th>\n",
       "      <td>1400000US25001010304</td>\n",
       "      <td>25001010304</td>\n",
       "      <td>Census Tract 103.04, Barnstable County, Massac...</td>\n",
       "      <td>98.91</td>\n",
       "      <td>1.09</td>\n",
       "    </tr>\n",
       "  </tbody>\n",
       "</table>\n",
       "</div>"
      ],
      "text/plain": [
       "                 GEO.id      GEO.id2  \\\n",
       "0                    Id          Id2   \n",
       "1  1400000US25001010100  25001010100   \n",
       "2  1400000US25001010206  25001010206   \n",
       "3  1400000US25001010208  25001010208   \n",
       "4  1400000US25001010304  25001010304   \n",
       "\n",
       "                                   GEO.display-label  \\\n",
       "0                                          Geography   \n",
       "1  Census Tract 101, Barnstable County, Massachus...   \n",
       "2  Census Tract 102.06, Barnstable County, Massac...   \n",
       "3  Census Tract 102.08, Barnstable County, Massac...   \n",
       "4  Census Tract 103.04, Barnstable County, Massac...   \n",
       "\n",
       "                         PoNH                     PoH  \n",
       "0  Percentage of Not Hispanic  Percentage of Hispanic  \n",
       "1                       94.46                    5.54  \n",
       "2                       99.68                    0.32  \n",
       "3                       98.11                    1.89  \n",
       "4                       98.91                    1.09  "
      ]
     },
     "execution_count": 9,
     "metadata": {},
     "output_type": "execute_result"
    }
   ],
   "source": [
    "ethnicity2['PoNH'] = data1\n",
    "ethnicity2['PoH'] = data2\n",
    "\n",
    "ethnicity3 = ethnicity2.loc[:,['GEO.id','GEO.id2','GEO.display-label','PoNH','PoH']]\n",
    "\n",
    "ethnicity3.head()"
   ]
  },
  {
   "cell_type": "code",
   "execution_count": 11,
   "metadata": {},
   "outputs": [
    {
     "data": {
      "text/plain": [
       "89.15"
      ]
     },
     "execution_count": 11,
     "metadata": {},
     "output_type": "execute_result"
    }
   ],
   "source": [
    "not_hispanic_percentage_state = round((ethnicity_state1[\"HD01_VD02\"][1] / ethnicity_state1[\"HD01_VD01\"][1])*100,2)\n",
    "not_hispanic_percentage_state"
   ]
  },
  {
   "cell_type": "code",
   "execution_count": 12,
   "metadata": {},
   "outputs": [],
   "source": [
    "flag = [0 for n in range(ethnicity3.shape[0])]\n",
    "i = 0\n",
    "\n",
    "for (ittt, row) in ethnicity3.iterrows():\n",
    "    if(type(row['PoNH'])!=float):\n",
    "        flag[i] = \"flag\"\n",
    "        i = i + 1\n",
    "    else:\n",
    "        if(row['PoNH']>not_hispanic_percentage_state):\n",
    "            flag[i] = \"Not Hispanic\"\n",
    "            i = i + 1\n",
    "        else:\n",
    "            flag[i] = \"Hispanic\"\n",
    "            i = i + 1"
   ]
  },
  {
   "cell_type": "code",
   "execution_count": 13,
   "metadata": {},
   "outputs": [
    {
     "data": {
      "text/html": [
       "<div>\n",
       "<style scoped>\n",
       "    .dataframe tbody tr th:only-of-type {\n",
       "        vertical-align: middle;\n",
       "    }\n",
       "\n",
       "    .dataframe tbody tr th {\n",
       "        vertical-align: top;\n",
       "    }\n",
       "\n",
       "    .dataframe thead th {\n",
       "        text-align: right;\n",
       "    }\n",
       "</style>\n",
       "<table border=\"1\" class=\"dataframe\">\n",
       "  <thead>\n",
       "    <tr style=\"text-align: right;\">\n",
       "      <th></th>\n",
       "      <th>Flag</th>\n",
       "    </tr>\n",
       "  </thead>\n",
       "  <tbody>\n",
       "    <tr>\n",
       "      <th>0</th>\n",
       "      <td>flag</td>\n",
       "    </tr>\n",
       "    <tr>\n",
       "      <th>1</th>\n",
       "      <td>Not Hispanic</td>\n",
       "    </tr>\n",
       "    <tr>\n",
       "      <th>2</th>\n",
       "      <td>Not Hispanic</td>\n",
       "    </tr>\n",
       "    <tr>\n",
       "      <th>3</th>\n",
       "      <td>Not Hispanic</td>\n",
       "    </tr>\n",
       "    <tr>\n",
       "      <th>4</th>\n",
       "      <td>Not Hispanic</td>\n",
       "    </tr>\n",
       "  </tbody>\n",
       "</table>\n",
       "</div>"
      ],
      "text/plain": [
       "           Flag\n",
       "0          flag\n",
       "1  Not Hispanic\n",
       "2  Not Hispanic\n",
       "3  Not Hispanic\n",
       "4  Not Hispanic"
      ]
     },
     "execution_count": 13,
     "metadata": {},
     "output_type": "execute_result"
    }
   ],
   "source": [
    "Flag = {\"Flag\": flag,}\n",
    "data3=DataFrame(Flag)\n",
    "data3.head()"
   ]
  },
  {
   "cell_type": "code",
   "execution_count": 15,
   "metadata": {},
   "outputs": [],
   "source": [
    "ethnicity3['Flag'] = data3\n",
    "ethnicity3.head()"
   ]
  },
  {
   "cell_type": "code",
   "execution_count": null,
   "metadata": {},
   "outputs": [],
   "source": [
    "ethnicity3.to_csv(\"test.csv\",index=False,sep=',')"
   ]
  }
 ],
 "metadata": {
  "kernelspec": {
   "display_name": "Python 3",
   "language": "python",
   "name": "python3"
  },
  "language_info": {
   "codemirror_mode": {
    "name": "ipython",
    "version": 3
   },
   "file_extension": ".py",
   "mimetype": "text/x-python",
   "name": "python",
   "nbconvert_exporter": "python",
   "pygments_lexer": "ipython3",
   "version": "3.7.0"
  }
 },
 "nbformat": 4,
 "nbformat_minor": 2
}
