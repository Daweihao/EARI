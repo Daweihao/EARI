{
 "cells": [
  {
   "cell_type": "code",
   "execution_count": 35,
   "metadata": {},
   "outputs": [],
   "source": [
    "import pandas as pd\n",
    "from pandas.core.frame import DataFrame"
   ]
  },
  {
   "cell_type": "code",
   "execution_count": 73,
   "metadata": {},
   "outputs": [],
   "source": [
    "file1 = \"C02003_detailedRace_censusTract.xlsx\"\n",
    "file2 = \"C02003_detailedRace_state.xlsx\"\n",
    "\n",
    "xl = pd.ExcelFile(file1)\n",
    "x2 = pd.ExcelFile(file2)\n",
    "race1 = xl.parse('MA')\n",
    "race_state1 = x2.parse('MA')"
   ]
  },
  {
   "cell_type": "code",
   "execution_count": 50,
   "metadata": {},
   "outputs": [
    {
     "data": {
      "text/html": [
       "<div>\n",
       "<style scoped>\n",
       "    .dataframe tbody tr th:only-of-type {\n",
       "        vertical-align: middle;\n",
       "    }\n",
       "\n",
       "    .dataframe tbody tr th {\n",
       "        vertical-align: top;\n",
       "    }\n",
       "\n",
       "    .dataframe thead th {\n",
       "        text-align: right;\n",
       "    }\n",
       "</style>\n",
       "<table border=\"1\" class=\"dataframe\">\n",
       "  <thead>\n",
       "    <tr style=\"text-align: right;\">\n",
       "      <th></th>\n",
       "      <th>GEO.id</th>\n",
       "      <th>GEO.id2</th>\n",
       "      <th>GEO.display-label</th>\n",
       "      <th>HD01_VD01</th>\n",
       "      <th>HD01_VD03</th>\n",
       "    </tr>\n",
       "  </thead>\n",
       "  <tbody>\n",
       "    <tr>\n",
       "      <th>0</th>\n",
       "      <td>Id</td>\n",
       "      <td>Id2</td>\n",
       "      <td>Geography</td>\n",
       "      <td>Estimate; Total:</td>\n",
       "      <td>Estimate; Population of one race: - White</td>\n",
       "    </tr>\n",
       "    <tr>\n",
       "      <th>1</th>\n",
       "      <td>1400000US25001010100</td>\n",
       "      <td>25001010100</td>\n",
       "      <td>Census Tract 101, Barnstable County, Massachus...</td>\n",
       "      <td>2962</td>\n",
       "      <td>2517</td>\n",
       "    </tr>\n",
       "    <tr>\n",
       "      <th>2</th>\n",
       "      <td>1400000US25001010206</td>\n",
       "      <td>25001010206</td>\n",
       "      <td>Census Tract 102.06, Barnstable County, Massac...</td>\n",
       "      <td>3168</td>\n",
       "      <td>2940</td>\n",
       "    </tr>\n",
       "    <tr>\n",
       "      <th>3</th>\n",
       "      <td>1400000US25001010208</td>\n",
       "      <td>25001010208</td>\n",
       "      <td>Census Tract 102.08, Barnstable County, Massac...</td>\n",
       "      <td>1589</td>\n",
       "      <td>1563</td>\n",
       "    </tr>\n",
       "    <tr>\n",
       "      <th>4</th>\n",
       "      <td>1400000US25001010304</td>\n",
       "      <td>25001010304</td>\n",
       "      <td>Census Tract 103.04, Barnstable County, Massac...</td>\n",
       "      <td>2107</td>\n",
       "      <td>2072</td>\n",
       "    </tr>\n",
       "  </tbody>\n",
       "</table>\n",
       "</div>"
      ],
      "text/plain": [
       "                 GEO.id      GEO.id2  \\\n",
       "0                    Id          Id2   \n",
       "1  1400000US25001010100  25001010100   \n",
       "2  1400000US25001010206  25001010206   \n",
       "3  1400000US25001010208  25001010208   \n",
       "4  1400000US25001010304  25001010304   \n",
       "\n",
       "                                   GEO.display-label         HD01_VD01  \\\n",
       "0                                          Geography  Estimate; Total:   \n",
       "1  Census Tract 101, Barnstable County, Massachus...              2962   \n",
       "2  Census Tract 102.06, Barnstable County, Massac...              3168   \n",
       "3  Census Tract 102.08, Barnstable County, Massac...              1589   \n",
       "4  Census Tract 103.04, Barnstable County, Massac...              2107   \n",
       "\n",
       "                                   HD01_VD03  \n",
       "0  Estimate; Population of one race: - White  \n",
       "1                                       2517  \n",
       "2                                       2940  \n",
       "3                                       1563  \n",
       "4                                       2072  "
      ]
     },
     "execution_count": 50,
     "metadata": {},
     "output_type": "execute_result"
    }
   ],
   "source": [
    "race2 = race1.loc[:,['GEO.id','GEO.id2','GEO.display-label','HD01_VD01','HD01_VD03']]\n",
    "\n",
    "race2.head()"
   ]
  },
  {
   "cell_type": "code",
   "execution_count": 55,
   "metadata": {},
   "outputs": [],
   "source": [
    "white = [0 for n in range(race2.shape[0])]\n",
    "all_other = [0 for n in range(race2.shape[0])]\n",
    "i = 0\n",
    "\n",
    "for (ittt, row) in race2.iterrows():\n",
    "    if(type(row['HD01_VD01'])!=int):\n",
    "        white[i] = \"Percentage of White\"\n",
    "        all_other[i] = \"Percentage of All Other Races\"\n",
    "        i = i + 1\n",
    "    else:\n",
    "        if(row['HD01_VD01']!=0):\n",
    "            white[i] = round((row['HD01_VD03'] / row['HD01_VD01'])*100,2)\n",
    "            all_other[i] = 100 - white[i]\n",
    "            i = i + 1\n",
    "        else:\n",
    "            white[i] = 0\n",
    "            all_other[i] = 0\n",
    "            i = i + 1"
   ]
  },
  {
   "cell_type": "code",
   "execution_count": 63,
   "metadata": {},
   "outputs": [
    {
     "data": {
      "text/html": [
       "<div>\n",
       "<style scoped>\n",
       "    .dataframe tbody tr th:only-of-type {\n",
       "        vertical-align: middle;\n",
       "    }\n",
       "\n",
       "    .dataframe tbody tr th {\n",
       "        vertical-align: top;\n",
       "    }\n",
       "\n",
       "    .dataframe thead th {\n",
       "        text-align: right;\n",
       "    }\n",
       "</style>\n",
       "<table border=\"1\" class=\"dataframe\">\n",
       "  <thead>\n",
       "    <tr style=\"text-align: right;\">\n",
       "      <th></th>\n",
       "      <th>PoAOR</th>\n",
       "    </tr>\n",
       "  </thead>\n",
       "  <tbody>\n",
       "    <tr>\n",
       "      <th>0</th>\n",
       "      <td>Percentage of All Other Races</td>\n",
       "    </tr>\n",
       "    <tr>\n",
       "      <th>1</th>\n",
       "      <td>15.02</td>\n",
       "    </tr>\n",
       "    <tr>\n",
       "      <th>2</th>\n",
       "      <td>7.2</td>\n",
       "    </tr>\n",
       "    <tr>\n",
       "      <th>3</th>\n",
       "      <td>1.64</td>\n",
       "    </tr>\n",
       "    <tr>\n",
       "      <th>4</th>\n",
       "      <td>1.66</td>\n",
       "    </tr>\n",
       "  </tbody>\n",
       "</table>\n",
       "</div>"
      ],
      "text/plain": [
       "                           PoAOR\n",
       "0  Percentage of All Other Races\n",
       "1                          15.02\n",
       "2                            7.2\n",
       "3                           1.64\n",
       "4                           1.66"
      ]
     },
     "execution_count": 63,
     "metadata": {},
     "output_type": "execute_result"
    }
   ],
   "source": [
    "PoW = {\"PoW\": white}\n",
    "data1=DataFrame(PoW)\n",
    "PoAOR = {\"PoAOR\": all_other}\n",
    "data2=DataFrame(PoAOR)\n",
    "data2.head()"
   ]
  },
  {
   "cell_type": "code",
   "execution_count": 67,
   "metadata": {},
   "outputs": [
    {
     "data": {
      "text/html": [
       "<div>\n",
       "<style scoped>\n",
       "    .dataframe tbody tr th:only-of-type {\n",
       "        vertical-align: middle;\n",
       "    }\n",
       "\n",
       "    .dataframe tbody tr th {\n",
       "        vertical-align: top;\n",
       "    }\n",
       "\n",
       "    .dataframe thead th {\n",
       "        text-align: right;\n",
       "    }\n",
       "</style>\n",
       "<table border=\"1\" class=\"dataframe\">\n",
       "  <thead>\n",
       "    <tr style=\"text-align: right;\">\n",
       "      <th></th>\n",
       "      <th>GEO.id</th>\n",
       "      <th>GEO.id2</th>\n",
       "      <th>GEO.display-label</th>\n",
       "      <th>PoW</th>\n",
       "      <th>PoAOR</th>\n",
       "    </tr>\n",
       "  </thead>\n",
       "  <tbody>\n",
       "    <tr>\n",
       "      <th>0</th>\n",
       "      <td>Id</td>\n",
       "      <td>Id2</td>\n",
       "      <td>Geography</td>\n",
       "      <td>Percentage of White</td>\n",
       "      <td>Percentage of All Other Races</td>\n",
       "    </tr>\n",
       "    <tr>\n",
       "      <th>1</th>\n",
       "      <td>1400000US25001010100</td>\n",
       "      <td>25001010100</td>\n",
       "      <td>Census Tract 101, Barnstable County, Massachus...</td>\n",
       "      <td>84.98</td>\n",
       "      <td>15.02</td>\n",
       "    </tr>\n",
       "    <tr>\n",
       "      <th>2</th>\n",
       "      <td>1400000US25001010206</td>\n",
       "      <td>25001010206</td>\n",
       "      <td>Census Tract 102.06, Barnstable County, Massac...</td>\n",
       "      <td>92.8</td>\n",
       "      <td>7.2</td>\n",
       "    </tr>\n",
       "    <tr>\n",
       "      <th>3</th>\n",
       "      <td>1400000US25001010208</td>\n",
       "      <td>25001010208</td>\n",
       "      <td>Census Tract 102.08, Barnstable County, Massac...</td>\n",
       "      <td>98.36</td>\n",
       "      <td>1.64</td>\n",
       "    </tr>\n",
       "    <tr>\n",
       "      <th>4</th>\n",
       "      <td>1400000US25001010304</td>\n",
       "      <td>25001010304</td>\n",
       "      <td>Census Tract 103.04, Barnstable County, Massac...</td>\n",
       "      <td>98.34</td>\n",
       "      <td>1.66</td>\n",
       "    </tr>\n",
       "  </tbody>\n",
       "</table>\n",
       "</div>"
      ],
      "text/plain": [
       "                 GEO.id      GEO.id2  \\\n",
       "0                    Id          Id2   \n",
       "1  1400000US25001010100  25001010100   \n",
       "2  1400000US25001010206  25001010206   \n",
       "3  1400000US25001010208  25001010208   \n",
       "4  1400000US25001010304  25001010304   \n",
       "\n",
       "                                   GEO.display-label                  PoW  \\\n",
       "0                                          Geography  Percentage of White   \n",
       "1  Census Tract 101, Barnstable County, Massachus...                84.98   \n",
       "2  Census Tract 102.06, Barnstable County, Massac...                 92.8   \n",
       "3  Census Tract 102.08, Barnstable County, Massac...                98.36   \n",
       "4  Census Tract 103.04, Barnstable County, Massac...                98.34   \n",
       "\n",
       "                           PoAOR  \n",
       "0  Percentage of All Other Races  \n",
       "1                          15.02  \n",
       "2                            7.2  \n",
       "3                           1.64  \n",
       "4                           1.66  "
      ]
     },
     "execution_count": 67,
     "metadata": {},
     "output_type": "execute_result"
    }
   ],
   "source": [
    "race2['PoW'] = data1\n",
    "race2['PoAOR'] = data2\n",
    "\n",
    "race3 = race2.loc[:,['GEO.id','GEO.id2','GEO.display-label','PoW','PoAOR']]\n",
    "\n",
    "race3.head()\n"
   ]
  },
  {
   "cell_type": "code",
   "execution_count": 80,
   "metadata": {},
   "outputs": [
    {
     "data": {
      "text/plain": [
       "79.26"
      ]
     },
     "execution_count": 80,
     "metadata": {},
     "output_type": "execute_result"
    }
   ],
   "source": [
    "white_percentage_state = round((race_state1[\"HD01_VD03\"][1] / race_state1[\"HD01_VD01\"][1])*100,2)\n",
    "white_percentage_state"
   ]
  },
  {
   "cell_type": "code",
   "execution_count": 86,
   "metadata": {},
   "outputs": [],
   "source": [
    "flag = [0 for n in range(race3.shape[0])]\n",
    "i = 0\n",
    "\n",
    "for (ittt, row) in race3.iterrows():\n",
    "    if(type(row['PoW'])!=float):\n",
    "        flag[i] = \"flag\"\n",
    "        i = i + 1\n",
    "    else:\n",
    "        if(row['PoW']>white_percentage_state):\n",
    "            flag[i] = \"White\"\n",
    "            i = i + 1\n",
    "        else:\n",
    "            flag[i] = \"All Other Races\"\n",
    "            i = i + 1"
   ]
  },
  {
   "cell_type": "code",
   "execution_count": 87,
   "metadata": {},
   "outputs": [
    {
     "data": {
      "text/html": [
       "<div>\n",
       "<style scoped>\n",
       "    .dataframe tbody tr th:only-of-type {\n",
       "        vertical-align: middle;\n",
       "    }\n",
       "\n",
       "    .dataframe tbody tr th {\n",
       "        vertical-align: top;\n",
       "    }\n",
       "\n",
       "    .dataframe thead th {\n",
       "        text-align: right;\n",
       "    }\n",
       "</style>\n",
       "<table border=\"1\" class=\"dataframe\">\n",
       "  <thead>\n",
       "    <tr style=\"text-align: right;\">\n",
       "      <th></th>\n",
       "      <th>Flag</th>\n",
       "    </tr>\n",
       "  </thead>\n",
       "  <tbody>\n",
       "    <tr>\n",
       "      <th>0</th>\n",
       "      <td>flag</td>\n",
       "    </tr>\n",
       "    <tr>\n",
       "      <th>1</th>\n",
       "      <td>White</td>\n",
       "    </tr>\n",
       "    <tr>\n",
       "      <th>2</th>\n",
       "      <td>White</td>\n",
       "    </tr>\n",
       "    <tr>\n",
       "      <th>3</th>\n",
       "      <td>White</td>\n",
       "    </tr>\n",
       "    <tr>\n",
       "      <th>4</th>\n",
       "      <td>White</td>\n",
       "    </tr>\n",
       "  </tbody>\n",
       "</table>\n",
       "</div>"
      ],
      "text/plain": [
       "    Flag\n",
       "0   flag\n",
       "1  White\n",
       "2  White\n",
       "3  White\n",
       "4  White"
      ]
     },
     "execution_count": 87,
     "metadata": {},
     "output_type": "execute_result"
    }
   ],
   "source": [
    "Flag = {\"Flag\": flag,}\n",
    "data3=DataFrame(Flag)\n",
    "data3.head()"
   ]
  },
  {
   "cell_type": "code",
   "execution_count": 89,
   "metadata": {},
   "outputs": [],
   "source": [
    "race3['Flag'] = data3"
   ]
  },
  {
   "cell_type": "code",
   "execution_count": 90,
   "metadata": {},
   "outputs": [],
   "source": [
    "race3.to_csv(\"test.csv\",index=False,sep=',')"
   ]
  },
  {
   "cell_type": "code",
   "execution_count": null,
   "metadata": {},
   "outputs": [],
   "source": []
  }
 ],
 "metadata": {
  "kernelspec": {
   "display_name": "Python 3",
   "language": "python",
   "name": "python3"
  },
  "language_info": {
   "codemirror_mode": {
    "name": "ipython",
    "version": 3
   },
   "file_extension": ".py",
   "mimetype": "text/x-python",
   "name": "python",
   "nbconvert_exporter": "python",
   "pygments_lexer": "ipython3",
   "version": "3.7.0"
  }
 },
 "nbformat": 4,
 "nbformat_minor": 2
}
